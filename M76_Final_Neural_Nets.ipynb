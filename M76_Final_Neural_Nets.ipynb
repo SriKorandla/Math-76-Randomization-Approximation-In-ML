{
  "nbformat": 4,
  "nbformat_minor": 0,
  "metadata": {
    "colab": {
      "provenance": []
    },
    "kernelspec": {
      "name": "python3",
      "display_name": "Python 3"
    },
    "language_info": {
      "name": "python"
    }
  },
  "cells": [
    {
      "cell_type": "markdown",
      "source": [
        "## Part 3: Neural Networks Utilizing Randomized Pruning"
      ],
      "metadata": {
        "id": "w69kDklgjIVK"
      }
    },
    {
      "cell_type": "code",
      "source": [
        "! pip install -q tensorflow-model-optimization"
      ],
      "metadata": {
        "id": "Qkba2_BQuCBR"
      },
      "execution_count": 106,
      "outputs": []
    },
    {
      "cell_type": "code",
      "execution_count": 110,
      "metadata": {
        "colab": {
          "base_uri": "https://localhost:8080/"
        },
        "id": "vxC8RRdOjDh1",
        "outputId": "6c8cadb7-5001-4c14-c8b5-7f0925a9885e"
      },
      "outputs": [
        {
          "output_type": "stream",
          "name": "stdout",
          "text": [
            "The tensorboard extension is already loaded. To reload it, use:\n",
            "  %reload_ext tensorboard\n"
          ]
        }
      ],
      "source": [
        "import tempfile\n",
        "import os\n",
        "\n",
        "import tensorflow as tf\n",
        "import numpy as np\n",
        "\n",
        "from tensorflow_model_optimization.python.core.keras.compat import keras\n",
        "\n",
        "%load_ext tensorboard"
      ]
    },
    {
      "cell_type": "code",
      "source": [
        "from google.colab import drive\n",
        "drive.mount('/content/gdrive')"
      ],
      "metadata": {
        "colab": {
          "base_uri": "https://localhost:8080/"
        },
        "id": "w8sClOM6ex1a",
        "outputId": "0bb7a9af-bdb2-499f-c4dd-588749fe550f"
      },
      "execution_count": 107,
      "outputs": [
        {
          "output_type": "stream",
          "name": "stdout",
          "text": [
            "Mounted at /content/gdrive\n"
          ]
        }
      ]
    },
    {
      "cell_type": "code",
      "source": [
        "# Load MNIST dataset\n",
        "(train_images, train_labels), (test_images, test_labels) = tf.keras.datasets.fashion_mnist.load_data()\n",
        "\n",
        "# Normalize the input image so that each pixel value is between 0 and 1.\n",
        "train_images = train_images / 255.0\n",
        "test_images = test_images / 255.0\n",
        "\n",
        "# Create a figure with a single row of subplots\n",
        "num_images = 4\n",
        "fig, axes = plt.subplots(1, num_images, figsize=(10, 2))\n",
        "\n",
        "# Display the images and their labels\n",
        "for i in range(num_images):\n",
        "    axes[i].imshow(train_images[i], cmap='gray')\n",
        "    axes[i].set_title(f'Label: {train_labels[i]}')\n",
        "    axes[i].axis('off')\n",
        "\n",
        "# plt.savefig('/content/gdrive/MyDrive/24X/M76/Final_Project_Code/MNIST_fashon_labels.png')"
      ],
      "metadata": {
        "colab": {
          "base_uri": "https://localhost:8080/",
          "height": 213
        },
        "id": "Kq7mLiEn01oC",
        "outputId": "c3d24474-9604-4607-82b3-c5fb65600f6c"
      },
      "execution_count": 111,
      "outputs": [
        {
          "output_type": "display_data",
          "data": {
            "text/plain": [
              "<Figure size 1000x200 with 4 Axes>"
            ],
            "image/png": "[encoded data removed]"
          },
          "metadata": {}
        }
      ]
    },
    {
      "cell_type": "markdown",
      "source": [
        "Below we define our 5 different neural networks. Their stratagies are summarized in Table 3 of our write up."
      ],
      "metadata": {
        "id": "2j9wahhfPejR"
      }
    },
    {
      "cell_type": "code",
      "source": [
        "# NO PRUNING\n",
        "class NoPruningLayer(tf.keras.layers.Layer):\n",
        "    '''\n",
        "    A class for a layer which does not apply any pruning\n",
        "    '''\n",
        "    def __init__(self, layer, **kwargs):\n",
        "        '''\n",
        "        Constructor for the layer\n",
        "\n",
        "        Parameters:\n",
        "        - layer: The layer to be used without pruning\n",
        "        '''\n",
        "        super(NoPruningLayer, self).__init__(**kwargs)\n",
        "        self.layer = layer\n",
        "\n",
        "    def build(self, input_shape):\n",
        "        '''\n",
        "        Builds the layer\n",
        "\n",
        "        Parameters:\n",
        "        - input_shape: The shape of the input\n",
        "        '''\n",
        "        super(NoPruningLayer, self).build(input_shape)\n",
        "        self.layer.build(input_shape)\n",
        "\n",
        "    def call(self, inputs, training=None):\n",
        "        '''\n",
        "        Calls the layer\n",
        "\n",
        "        Parameters:\n",
        "        - inputs: The inputs to the layer\n",
        "        - training: Whether the layer is in training mode\n",
        "        '''\n",
        "        # Simply pass through the weights without pruning\n",
        "        return self.layer(inputs)\n",
        "\n",
        "    def get_config(self):\n",
        "        '''\n",
        "        Returns the config of the layer\n",
        "        '''\n",
        "        config = super(NoPruningLayer, self).get_config()\n",
        "        config.update({\n",
        "            'layer': self.layer,  # Ensure this layer can be serialized correctly\n",
        "        })\n",
        "        return config\n"
      ],
      "metadata": {
        "id": "2G8O4VtYPQkK"
      },
      "execution_count": 118,
      "outputs": []
    },
    {
      "cell_type": "code",
      "source": [
        "def create_no_pruning_model(input_shape=(28, 28)):\n",
        "    '''\n",
        "    Creates a model with a no pruning layer\n",
        "\n",
        "    Parameters:\n",
        "    - input_shape: The shape of the input\n",
        "\n",
        "    Returns:\n",
        "    - A model with a no pruning layer\n",
        "    '''\n",
        "    model = tf.keras.Sequential([\n",
        "        tf.keras.layers.InputLayer(input_shape=input_shape),\n",
        "        tf.keras.layers.Reshape(target_shape=(28, 28, 1)),\n",
        "        NoPruningLayer(tf.keras.layers.Conv2D(12, (3, 3), activation='relu')),\n",
        "        tf.keras.layers.MaxPooling2D(pool_size=(2, 2)),\n",
        "        tf.keras.layers.Flatten(),\n",
        "        tf.keras.layers.Dense(10)\n",
        "    ])\n",
        "    return model\n",
        "\n",
        "# Define and compile the model\n",
        "model_for_no_pruning = create_no_pruning_model()\n",
        "\n",
        "model_for_no_pruning.compile(optimizer='adam',\n",
        "                             loss=tf.keras.losses.SparseCategoricalCrossentropy(from_logits=True),\n",
        "                             metrics=['accuracy'])\n",
        "\n",
        "model_for_no_pruning.summary()\n",
        "\n",
        "# Train the model with no pruning\n",
        "model_for_no_pruning.fit(train_images, train_labels,\n",
        "                         batch_size=batch_size, epochs=4, validation_split=validation_split)\n"
      ],
      "metadata": {
        "colab": {
          "base_uri": "https://localhost:8080/",
          "height": 476
        },
        "id": "NdGIMMR5SZGT",
        "outputId": "70325640-7c0e-478e-c8d4-0d9ecafc3bea"
      },
      "execution_count": 124,
      "outputs": [
        {
          "output_type": "stream",
          "name": "stderr",
          "text": [
            "/usr/local/lib/python3.10/dist-packages/keras/src/layers/core/input_layer.py:26: UserWarning: Argument `input_shape` is deprecated. Use `shape` instead.\n",
            "  warnings.warn(\n"
          ]
        },
        {
          "output_type": "display_data",
          "data": {
            "text/plain": [
              "\u001b[1mModel: \"sequential_26\"\u001b[0m\n"
            ],
            "text/html": [
              "<pre style=\"white-space:pre;overflow-x:auto;line-height:normal;font-family:Menlo,'DejaVu Sans Mono',consolas,'Courier New',monospace\"><span style=\"font-weight: bold\">Model: \"sequential_26\"</span>\n",
              "</pre>\n"
            ]
          },
          "metadata": {}
        },
        {
          "output_type": "display_data",
          "data": {
            "text/plain": [
              "┏━━━━━━━━━━━━━━━━━━━━━━━━━━━━━━━━━━━━━━┳━━━━━━━━━━━━━━━━━━━━━━━━━━━━━┳━━━━━━━━━━━━━━━━━┓\n",
              "┃\u001b[1m \u001b[0m\u001b[1mLayer (type)                        \u001b[0m\u001b[1m \u001b[0m┃\u001b[1m \u001b[0m\u001b[1mOutput Shape               \u001b[0m\u001b[1m \u001b[0m┃\u001b[1m \u001b[0m\u001b[1m        Param #\u001b[0m\u001b[1m \u001b[0m┃\n",
              "┡━━━━━━━━━━━━━━━━━━━━━━━━━━━━━━━━━━━━━━╇━━━━━━━━━━━━━━━━━━━━━━━━━━━━━╇━━━━━━━━━━━━━━━━━┩\n",
              "│ reshape_17 (\u001b[38;5;33mReshape\u001b[0m)                 │ (\u001b[38;5;45mNone\u001b[0m, \u001b[38;5;34m28\u001b[0m, \u001b[38;5;34m28\u001b[0m, \u001b[38;5;34m1\u001b[0m)           │               \u001b[38;5;34m0\u001b[0m │\n",
              "├──────────────────────────────────────┼─────────────────────────────┼─────────────────┤\n",
              "│ no_pruning_layer (\u001b[38;5;33mNoPruningLayer\u001b[0m)    │ (\u001b[38;5;45mNone\u001b[0m, \u001b[38;5;34m26\u001b[0m, \u001b[38;5;34m26\u001b[0m, \u001b[38;5;34m12\u001b[0m)          │             \u001b[38;5;34m120\u001b[0m │\n",
              "├──────────────────────────────────────┼─────────────────────────────┼─────────────────┤\n",
              "│ max_pooling2d_27 (\u001b[38;5;33mMaxPooling2D\u001b[0m)      │ (\u001b[38;5;45mNone\u001b[0m, \u001b[38;5;34m13\u001b[0m, \u001b[38;5;34m13\u001b[0m, \u001b[38;5;34m12\u001b[0m)          │               \u001b[38;5;34m0\u001b[0m │\n",
              "├──────────────────────────────────────┼─────────────────────────────┼─────────────────┤\n",
              "│ flatten_22 (\u001b[38;5;33mFlatten\u001b[0m)                 │ (\u001b[38;5;45mNone\u001b[0m, \u001b[38;5;34m2028\u001b[0m)                │               \u001b[38;5;34m0\u001b[0m │\n",
              "├──────────────────────────────────────┼─────────────────────────────┼─────────────────┤\n",
              "│ dense_35 (\u001b[38;5;33mDense\u001b[0m)                     │ (\u001b[38;5;45mNone\u001b[0m, \u001b[38;5;34m10\u001b[0m)                  │          \u001b[38;5;34m20,290\u001b[0m │\n",
              "└──────────────────────────────────────┴─────────────────────────────┴─────────────────┘\n"
            ],
            "text/html": [
              "<pre style=\"white-space:pre;overflow-x:auto;line-height:normal;font-family:Menlo,'DejaVu Sans Mono',consolas,'Courier New',monospace\">┏━━━━━━━━━━━━━━━━━━━━━━━━━━━━━━━━━━━━━━┳━━━━━━━━━━━━━━━━━━━━━━━━━━━━━┳━━━━━━━━━━━━━━━━━┓\n",
              "┃<span style=\"font-weight: bold\"> Layer (type)                         </span>┃<span style=\"font-weight: bold\"> Output Shape                </span>┃<span style=\"font-weight: bold\">         Param # </span>┃\n",
              "┡━━━━━━━━━━━━━━━━━━━━━━━━━━━━━━━━━━━━━━╇━━━━━━━━━━━━━━━━━━━━━━━━━━━━━╇━━━━━━━━━━━━━━━━━┩\n",
              "│ reshape_17 (<span style=\"color: #0087ff; text-decoration-color: #0087ff\">Reshape</span>)                 │ (<span style=\"color: #00d7ff; text-decoration-color: #00d7ff\">None</span>, <span style=\"color: #00af00; text-decoration-color: #00af00\">28</span>, <span style=\"color: #00af00; text-decoration-color: #00af00\">28</span>, <span style=\"color: #00af00; text-decoration-color: #00af00\">1</span>)           │               <span style=\"color: #00af00; text-decoration-color: #00af00\">0</span> │\n",
              "├──────────────────────────────────────┼─────────────────────────────┼─────────────────┤\n",
              "│ no_pruning_layer (<span style=\"color: #0087ff; text-decoration-color: #0087ff\">NoPruningLayer</span>)    │ (<span style=\"color: #00d7ff; text-decoration-color: #00d7ff\">None</span>, <span style=\"color: #00af00; text-decoration-color: #00af00\">26</span>, <span style=\"color: #00af00; text-decoration-color: #00af00\">26</span>, <span style=\"color: #00af00; text-decoration-color: #00af00\">12</span>)          │             <span style=\"color: #00af00; text-decoration-color: #00af00\">120</span> │\n",
              "├──────────────────────────────────────┼─────────────────────────────┼─────────────────┤\n",
              "│ max_pooling2d_27 (<span style=\"color: #0087ff; text-decoration-color: #0087ff\">MaxPooling2D</span>)      │ (<span style=\"color: #00d7ff; text-decoration-color: #00d7ff\">None</span>, <span style=\"color: #00af00; text-decoration-color: #00af00\">13</span>, <span style=\"color: #00af00; text-decoration-color: #00af00\">13</span>, <span style=\"color: #00af00; text-decoration-color: #00af00\">12</span>)          │               <span style=\"color: #00af00; text-decoration-color: #00af00\">0</span> │\n",
              "├──────────────────────────────────────┼─────────────────────────────┼─────────────────┤\n",
              "│ flatten_22 (<span style=\"color: #0087ff; text-decoration-color: #0087ff\">Flatten</span>)                 │ (<span style=\"color: #00d7ff; text-decoration-color: #00d7ff\">None</span>, <span style=\"color: #00af00; text-decoration-color: #00af00\">2028</span>)                │               <span style=\"color: #00af00; text-decoration-color: #00af00\">0</span> │\n",
              "├──────────────────────────────────────┼─────────────────────────────┼─────────────────┤\n",
              "│ dense_35 (<span style=\"color: #0087ff; text-decoration-color: #0087ff\">Dense</span>)                     │ (<span style=\"color: #00d7ff; text-decoration-color: #00d7ff\">None</span>, <span style=\"color: #00af00; text-decoration-color: #00af00\">10</span>)                  │          <span style=\"color: #00af00; text-decoration-color: #00af00\">20,290</span> │\n",
              "└──────────────────────────────────────┴─────────────────────────────┴─────────────────┘\n",
              "</pre>\n"
            ]
          },
          "metadata": {}
        },
        {
          "output_type": "display_data",
          "data": {
            "text/plain": [
              "\u001b[1m Total params: \u001b[0m\u001b[38;5;34m20,410\u001b[0m (79.73 KB)\n"
            ],
            "text/html": [
              "<pre style=\"white-space:pre;overflow-x:auto;line-height:normal;font-family:Menlo,'DejaVu Sans Mono',consolas,'Courier New',monospace\"><span style=\"font-weight: bold\"> Total params: </span><span style=\"color: #00af00; text-decoration-color: #00af00\">20,410</span> (79.73 KB)\n",
              "</pre>\n"
            ]
          },
          "metadata": {}
        },
        {
          "output_type": "display_data",
          "data": {
            "text/plain": [
              "\u001b[1m Trainable params: \u001b[0m\u001b[38;5;34m20,410\u001b[0m (79.73 KB)\n"
            ],
            "text/html": [
              "<pre style=\"white-space:pre;overflow-x:auto;line-height:normal;font-family:Menlo,'DejaVu Sans Mono',consolas,'Courier New',monospace\"><span style=\"font-weight: bold\"> Trainable params: </span><span style=\"color: #00af00; text-decoration-color: #00af00\">20,410</span> (79.73 KB)\n",
              "</pre>\n"
            ]
          },
          "metadata": {}
        },
        {
          "output_type": "display_data",
          "data": {
            "text/plain": [
              "\u001b[1m Non-trainable params: \u001b[0m\u001b[38;5;34m0\u001b[0m (0.00 B)\n"
            ],
            "text/html": [
              "<pre style=\"white-space:pre;overflow-x:auto;line-height:normal;font-family:Menlo,'DejaVu Sans Mono',consolas,'Courier New',monospace\"><span style=\"font-weight: bold\"> Non-trainable params: </span><span style=\"color: #00af00; text-decoration-color: #00af00\">0</span> (0.00 B)\n",
              "</pre>\n"
            ]
          },
          "metadata": {}
        },
        {
          "output_type": "stream",
          "name": "stdout",
          "text": [
            "Epoch 1/4\n",
            "\u001b[1m422/422\u001b[0m \u001b[32m━━━━━━━━━━━━━━━━━━━━\u001b[0m\u001b[37m\u001b[0m \u001b[1m17s\u001b[0m 37ms/step - accuracy: 0.7058 - loss: 0.9532 - val_accuracy: 0.8508 - val_loss: 0.4222\n",
            "Epoch 2/4\n",
            "\u001b[1m422/422\u001b[0m \u001b[32m━━━━━━━━━━━━━━━━━━━━\u001b[0m\u001b[37m\u001b[0m \u001b[1m20s\u001b[0m 36ms/step - accuracy: 0.8592 - loss: 0.4078 - val_accuracy: 0.8680 - val_loss: 0.3704\n",
            "Epoch 3/4\n",
            "\u001b[1m422/422\u001b[0m \u001b[32m━━━━━━━━━━━━━━━━━━━━\u001b[0m\u001b[37m\u001b[0m \u001b[1m21s\u001b[0m 37ms/step - accuracy: 0.8747 - loss: 0.3605 - val_accuracy: 0.8732 - val_loss: 0.3518\n",
            "Epoch 4/4\n",
            "\u001b[1m422/422\u001b[0m \u001b[32m━━━━━━━━━━━━━━━━━━━━\u001b[0m\u001b[37m\u001b[0m \u001b[1m15s\u001b[0m 37ms/step - accuracy: 0.8826 - loss: 0.3375 - val_accuracy: 0.8772 - val_loss: 0.3394\n"
          ]
        },
        {
          "output_type": "execute_result",
          "data": {
            "text/plain": [
              "<keras.src.callbacks.history.History at 0x7df089202020>"
            ]
          },
          "metadata": {},
          "execution_count": 124
        }
      ]
    },
    {
      "cell_type": "code",
      "source": [
        "# DETERMINISTIC PRUNING\n",
        "class DeterministicPruningLayer(tf.keras.layers.Layer):\n",
        "    '''\n",
        "    A class for a layer which prunes deterministically\n",
        "    '''\n",
        "    def __init__(self, layer, sparsity, **kwargs):\n",
        "        '''\n",
        "        Constructor for the layer\n",
        "\n",
        "        Parameters:\n",
        "        - layer: The layer to be pruned\n",
        "        - sparsity: The sparsity of the layer\n",
        "        '''\n",
        "        super(DeterministicPruningLayer, self).__init__(**kwargs)\n",
        "        self.layer = layer\n",
        "        self.sparsity = sparsity\n",
        "\n",
        "    def build(self, input_shape):\n",
        "        '''\n",
        "        Builds the layer\n",
        "\n",
        "        Parameters:\n",
        "        - input_shape: The shape of the input\n",
        "        '''\n",
        "        super(DeterministicPruningLayer, self).build(input_shape)\n",
        "        self.layer.build(input_shape)\n",
        "\n",
        "    def call(self, inputs, training=None):\n",
        "        '''\n",
        "        Calls the layer\n",
        "\n",
        "        Parameters:\n",
        "        - inputs: The inputs to the layer\n",
        "        - training: Whether the layer is in training mode\n",
        "        '''\n",
        "        weights = self.layer.kernel\n",
        "        if training:\n",
        "            # Flatten the weights to apply threshold-based pruning\n",
        "            flattened_weights = tf.reshape(weights, [-1])\n",
        "\n",
        "            # Determine the threshold for pruning\n",
        "            num_weights = tf.size(flattened_weights)\n",
        "            k = tf.cast(self.sparsity * tf.cast(num_weights, tf.float32), tf.int32)\n",
        "            threshold = tf.sort(tf.abs(flattened_weights))[k]\n",
        "\n",
        "            # Prune weights that are below the threshold\n",
        "            mask = tf.cast(tf.abs(weights) >= threshold, weights.dtype)\n",
        "\n",
        "            # Apply the mask to prune weights\n",
        "            pruned_weights = weights * mask\n",
        "            self.layer.kernel.assign(pruned_weights)\n",
        "\n",
        "        return self.layer(inputs)\n",
        "\n",
        "    def get_config(self):\n",
        "        '''\n",
        "        Returns the config of the layer\n",
        "        '''\n",
        "        config = super(DeterministicPruningLayer, self).get_config()\n",
        "        config.update({\n",
        "            'layer': self.layer,  # Ensure this layer can be serialized correctly\n",
        "            'sparsity': self.sparsity,\n",
        "        })\n",
        "        return config\n"
      ],
      "metadata": {
        "id": "_x943usk9FYZ"
      },
      "execution_count": 117,
      "outputs": []
    },
    {
      "cell_type": "code",
      "source": [
        "# Example of using this custom pruning layer in a model\n",
        "def create_deterministic_pruned_model(input_shape=(28, 28)):\n",
        "    '''\n",
        "    Creates a model with a deterministic pruning layer\n",
        "\n",
        "    Parameters:\n",
        "    - input_shape: The shape of the input\n",
        "\n",
        "    Returns:\n",
        "    - A model with a deterministic pruning layer\n",
        "    '''\n",
        "    model = tf.keras.Sequential([\n",
        "        tf.keras.layers.InputLayer(input_shape=input_shape),\n",
        "        tf.keras.layers.Reshape(target_shape=(28, 28, 1)),\n",
        "        DeterministicPruningLayer(tf.keras.layers.Conv2D(12, (3, 3), activation='relu'), sparsity=0.5),\n",
        "        tf.keras.layers.MaxPooling2D(pool_size=(2, 2)),\n",
        "        tf.keras.layers.Flatten(),\n",
        "        tf.keras.layers.Dense(10)\n",
        "    ])\n",
        "    return model\n",
        "\n",
        "# Define and compile the model\n",
        "model_for_deterministic_pruning = create_deterministic_pruned_model()\n",
        "\n",
        "model_for_deterministic_pruning.compile(optimizer='adam',\n",
        "                                        loss=tf.keras.losses.SparseCategoricalCrossentropy(from_logits=True),\n",
        "                                        metrics=['accuracy'])\n",
        "\n",
        "model_for_deterministic_pruning.summary()\n",
        "\n",
        "# Train the deterministically pruned model\n",
        "model_for_deterministic_pruning.fit(train_images, train_labels,\n",
        "                                    batch_size=batch_size, epochs=4, validation_split=validation_split)"
      ],
      "metadata": {
        "colab": {
          "base_uri": "https://localhost:8080/",
          "height": 458
        },
        "id": "cJU3UMKNTF7p",
        "outputId": "6870309e-6d2d-4026-c1c8-8c4d5928ea27"
      },
      "execution_count": 125,
      "outputs": [
        {
          "output_type": "display_data",
          "data": {
            "text/plain": [
              "\u001b[1mModel: \"sequential_27\"\u001b[0m\n"
            ],
            "text/html": [
              "<pre style=\"white-space:pre;overflow-x:auto;line-height:normal;font-family:Menlo,'DejaVu Sans Mono',consolas,'Courier New',monospace\"><span style=\"font-weight: bold\">Model: \"sequential_27\"</span>\n",
              "</pre>\n"
            ]
          },
          "metadata": {}
        },
        {
          "output_type": "display_data",
          "data": {
            "text/plain": [
              "┏━━━━━━━━━━━━━━━━━━━━━━━━━━━━━━━━━━━━━━┳━━━━━━━━━━━━━━━━━━━━━━━━━━━━━┳━━━━━━━━━━━━━━━━━┓\n",
              "┃\u001b[1m \u001b[0m\u001b[1mLayer (type)                        \u001b[0m\u001b[1m \u001b[0m┃\u001b[1m \u001b[0m\u001b[1mOutput Shape               \u001b[0m\u001b[1m \u001b[0m┃\u001b[1m \u001b[0m\u001b[1m        Param #\u001b[0m\u001b[1m \u001b[0m┃\n",
              "┡━━━━━━━━━━━━━━━━━━━━━━━━━━━━━━━━━━━━━━╇━━━━━━━━━━━━━━━━━━━━━━━━━━━━━╇━━━━━━━━━━━━━━━━━┩\n",
              "│ reshape_18 (\u001b[38;5;33mReshape\u001b[0m)                 │ (\u001b[38;5;45mNone\u001b[0m, \u001b[38;5;34m28\u001b[0m, \u001b[38;5;34m28\u001b[0m, \u001b[38;5;34m1\u001b[0m)           │               \u001b[38;5;34m0\u001b[0m │\n",
              "├──────────────────────────────────────┼─────────────────────────────┼─────────────────┤\n",
              "│ deterministic_pruning_layer_4        │ (\u001b[38;5;45mNone\u001b[0m, \u001b[38;5;34m26\u001b[0m, \u001b[38;5;34m26\u001b[0m, \u001b[38;5;34m12\u001b[0m)          │             \u001b[38;5;34m120\u001b[0m │\n",
              "│ (\u001b[38;5;33mDeterministicPruningLayer\u001b[0m)          │                             │                 │\n",
              "├──────────────────────────────────────┼─────────────────────────────┼─────────────────┤\n",
              "│ max_pooling2d_28 (\u001b[38;5;33mMaxPooling2D\u001b[0m)      │ (\u001b[38;5;45mNone\u001b[0m, \u001b[38;5;34m13\u001b[0m, \u001b[38;5;34m13\u001b[0m, \u001b[38;5;34m12\u001b[0m)          │               \u001b[38;5;34m0\u001b[0m │\n",
              "├──────────────────────────────────────┼─────────────────────────────┼─────────────────┤\n",
              "│ flatten_23 (\u001b[38;5;33mFlatten\u001b[0m)                 │ (\u001b[38;5;45mNone\u001b[0m, \u001b[38;5;34m2028\u001b[0m)                │               \u001b[38;5;34m0\u001b[0m │\n",
              "├──────────────────────────────────────┼─────────────────────────────┼─────────────────┤\n",
              "│ dense_36 (\u001b[38;5;33mDense\u001b[0m)                     │ (\u001b[38;5;45mNone\u001b[0m, \u001b[38;5;34m10\u001b[0m)                  │          \u001b[38;5;34m20,290\u001b[0m │\n",
              "└──────────────────────────────────────┴─────────────────────────────┴─────────────────┘\n"
            ],
            "text/html": [
              "<pre style=\"white-space:pre;overflow-x:auto;line-height:normal;font-family:Menlo,'DejaVu Sans Mono',consolas,'Courier New',monospace\">┏━━━━━━━━━━━━━━━━━━━━━━━━━━━━━━━━━━━━━━┳━━━━━━━━━━━━━━━━━━━━━━━━━━━━━┳━━━━━━━━━━━━━━━━━┓\n",
              "┃<span style=\"font-weight: bold\"> Layer (type)                         </span>┃<span style=\"font-weight: bold\"> Output Shape                </span>┃<span style=\"font-weight: bold\">         Param # </span>┃\n",
              "┡━━━━━━━━━━━━━━━━━━━━━━━━━━━━━━━━━━━━━━╇━━━━━━━━━━━━━━━━━━━━━━━━━━━━━╇━━━━━━━━━━━━━━━━━┩\n",
              "│ reshape_18 (<span style=\"color: #0087ff; text-decoration-color: #0087ff\">Reshape</span>)                 │ (<span style=\"color: #00d7ff; text-decoration-color: #00d7ff\">None</span>, <span style=\"color: #00af00; text-decoration-color: #00af00\">28</span>, <span style=\"color: #00af00; text-decoration-color: #00af00\">28</span>, <span style=\"color: #00af00; text-decoration-color: #00af00\">1</span>)           │               <span style=\"color: #00af00; text-decoration-color: #00af00\">0</span> │\n",
              "├──────────────────────────────────────┼─────────────────────────────┼─────────────────┤\n",
              "│ deterministic_pruning_layer_4        │ (<span style=\"color: #00d7ff; text-decoration-color: #00d7ff\">None</span>, <span style=\"color: #00af00; text-decoration-color: #00af00\">26</span>, <span style=\"color: #00af00; text-decoration-color: #00af00\">26</span>, <span style=\"color: #00af00; text-decoration-color: #00af00\">12</span>)          │             <span style=\"color: #00af00; text-decoration-color: #00af00\">120</span> │\n",
              "│ (<span style=\"color: #0087ff; text-decoration-color: #0087ff\">DeterministicPruningLayer</span>)          │                             │                 │\n",
              "├──────────────────────────────────────┼─────────────────────────────┼─────────────────┤\n",
              "│ max_pooling2d_28 (<span style=\"color: #0087ff; text-decoration-color: #0087ff\">MaxPooling2D</span>)      │ (<span style=\"color: #00d7ff; text-decoration-color: #00d7ff\">None</span>, <span style=\"color: #00af00; text-decoration-color: #00af00\">13</span>, <span style=\"color: #00af00; text-decoration-color: #00af00\">13</span>, <span style=\"color: #00af00; text-decoration-color: #00af00\">12</span>)          │               <span style=\"color: #00af00; text-decoration-color: #00af00\">0</span> │\n",
              "├──────────────────────────────────────┼─────────────────────────────┼─────────────────┤\n",
              "│ flatten_23 (<span style=\"color: #0087ff; text-decoration-color: #0087ff\">Flatten</span>)                 │ (<span style=\"color: #00d7ff; text-decoration-color: #00d7ff\">None</span>, <span style=\"color: #00af00; text-decoration-color: #00af00\">2028</span>)                │               <span style=\"color: #00af00; text-decoration-color: #00af00\">0</span> │\n",
              "├──────────────────────────────────────┼─────────────────────────────┼─────────────────┤\n",
              "│ dense_36 (<span style=\"color: #0087ff; text-decoration-color: #0087ff\">Dense</span>)                     │ (<span style=\"color: #00d7ff; text-decoration-color: #00d7ff\">None</span>, <span style=\"color: #00af00; text-decoration-color: #00af00\">10</span>)                  │          <span style=\"color: #00af00; text-decoration-color: #00af00\">20,290</span> │\n",
              "└──────────────────────────────────────┴─────────────────────────────┴─────────────────┘\n",
              "</pre>\n"
            ]
          },
          "metadata": {}
        },
        {
          "output_type": "display_data",
          "data": {
            "text/plain": [
              "\u001b[1m Total params: \u001b[0m\u001b[38;5;34m20,410\u001b[0m (79.73 KB)\n"
            ],
            "text/html": [
              "<pre style=\"white-space:pre;overflow-x:auto;line-height:normal;font-family:Menlo,'DejaVu Sans Mono',consolas,'Courier New',monospace\"><span style=\"font-weight: bold\"> Total params: </span><span style=\"color: #00af00; text-decoration-color: #00af00\">20,410</span> (79.73 KB)\n",
              "</pre>\n"
            ]
          },
          "metadata": {}
        },
        {
          "output_type": "display_data",
          "data": {
            "text/plain": [
              "\u001b[1m Trainable params: \u001b[0m\u001b[38;5;34m20,410\u001b[0m (79.73 KB)\n"
            ],
            "text/html": [
              "<pre style=\"white-space:pre;overflow-x:auto;line-height:normal;font-family:Menlo,'DejaVu Sans Mono',consolas,'Courier New',monospace\"><span style=\"font-weight: bold\"> Trainable params: </span><span style=\"color: #00af00; text-decoration-color: #00af00\">20,410</span> (79.73 KB)\n",
              "</pre>\n"
            ]
          },
          "metadata": {}
        },
        {
          "output_type": "display_data",
          "data": {
            "text/plain": [
              "\u001b[1m Non-trainable params: \u001b[0m\u001b[38;5;34m0\u001b[0m (0.00 B)\n"
            ],
            "text/html": [
              "<pre style=\"white-space:pre;overflow-x:auto;line-height:normal;font-family:Menlo,'DejaVu Sans Mono',consolas,'Courier New',monospace\"><span style=\"font-weight: bold\"> Non-trainable params: </span><span style=\"color: #00af00; text-decoration-color: #00af00\">0</span> (0.00 B)\n",
              "</pre>\n"
            ]
          },
          "metadata": {}
        },
        {
          "output_type": "stream",
          "name": "stdout",
          "text": [
            "Epoch 1/4\n",
            "\u001b[1m422/422\u001b[0m \u001b[32m━━━━━━━━━━━━━━━━━━━━\u001b[0m\u001b[37m\u001b[0m \u001b[1m17s\u001b[0m 38ms/step - accuracy: 0.6879 - loss: 0.9572 - val_accuracy: 0.8370 - val_loss: 0.4683\n",
            "Epoch 2/4\n",
            "\u001b[1m422/422\u001b[0m \u001b[32m━━━━━━━━━━━━━━━━━━━━\u001b[0m\u001b[37m\u001b[0m \u001b[1m15s\u001b[0m 37ms/step - accuracy: 0.8431 - loss: 0.4479 - val_accuracy: 0.8562 - val_loss: 0.4128\n",
            "Epoch 3/4\n",
            "\u001b[1m422/422\u001b[0m \u001b[32m━━━━━━━━━━━━━━━━━━━━\u001b[0m\u001b[37m\u001b[0m \u001b[1m20s\u001b[0m 36ms/step - accuracy: 0.8642 - loss: 0.3990 - val_accuracy: 0.8688 - val_loss: 0.3803\n",
            "Epoch 4/4\n",
            "\u001b[1m422/422\u001b[0m \u001b[32m━━━━━━━━━━━━━━━━━━━━\u001b[0m\u001b[37m\u001b[0m \u001b[1m20s\u001b[0m 36ms/step - accuracy: 0.8743 - loss: 0.3707 - val_accuracy: 0.8710 - val_loss: 0.3707\n"
          ]
        },
        {
          "output_type": "execute_result",
          "data": {
            "text/plain": [
              "<keras.src.callbacks.history.History at 0x7df0830db370>"
            ]
          },
          "metadata": {},
          "execution_count": 125
        }
      ]
    },
    {
      "cell_type": "code",
      "source": [
        "# RANDOM PRUNING\n",
        "class RandomPruningLayer(tf.keras.layers.Layer):\n",
        "    '''\n",
        "    A class for a layer which prunes weights completely randomly\n",
        "    '''\n",
        "    def __init__(self, layer, sparsity, **kwargs):\n",
        "        '''\n",
        "        Constructor for the layer\n",
        "\n",
        "        Parameters:\n",
        "        - layer: The layer to be pruned\n",
        "        - sparsity: The fraction of weights to prune\n",
        "        '''\n",
        "        super(RandomPruningLayer, self).__init__(**kwargs)\n",
        "        self.layer = layer\n",
        "        self.sparsity = sparsity\n",
        "\n",
        "    def build(self, input_shape):\n",
        "        '''\n",
        "        Builds the layer\n",
        "\n",
        "        Parameters:\n",
        "        - input_shape: The shape of the input\n",
        "        '''\n",
        "        super(RandomPruningLayer, self).build(input_shape)\n",
        "        self.layer.build(input_shape)\n",
        "\n",
        "    def call(self, inputs, training=None):\n",
        "        '''\n",
        "        Calls the layer\n",
        "\n",
        "        Parameters:\n",
        "        - inputs: The inputs to the layer\n",
        "        - training: Whether the layer is in training mode\n",
        "        '''\n",
        "        weights = self.layer.kernel\n",
        "        if training:\n",
        "            # Flatten the weights for easier manipulation\n",
        "            flattened_weights = tf.reshape(weights, [-1])\n",
        "\n",
        "            # Determine the number of weights to prune\n",
        "            num_weights = tf.size(flattened_weights)\n",
        "            num_to_prune = tf.cast(self.sparsity * tf.cast(num_weights, tf.float32), tf.int32)\n",
        "\n",
        "            # Generate a random permutation of indices and select the first num_to_prune for pruning\n",
        "            random_indices = tf.random.shuffle(tf.range(num_weights))[:num_to_prune]\n",
        "\n",
        "            # Create a mask that zeros out the selected random weights\n",
        "            mask_flat = tf.ones_like(flattened_weights)\n",
        "            mask_flat = tf.tensor_scatter_nd_update(mask_flat, tf.expand_dims(random_indices, 1), tf.zeros_like(random_indices, dtype=tf.float32))\n",
        "\n",
        "            # Reshape the mask back to the original weight shape\n",
        "            mask = tf.reshape(mask_flat, weights.shape)\n",
        "\n",
        "            # Apply the mask to prune weights\n",
        "            pruned_weights = weights * mask\n",
        "\n",
        "            # Assign the pruned weights back to the layer\n",
        "            self.layer.kernel.assign(pruned_weights)\n",
        "\n",
        "        return self.layer(inputs)\n",
        "\n",
        "    def get_config(self):\n",
        "        '''\n",
        "        Returns the config of the layer\n",
        "        '''\n",
        "        config = super(RandomPruningLayer, self).get_config()\n",
        "        config.update({\n",
        "            'layer': self.layer,\n",
        "            'sparsity': self.sparsity,\n",
        "        })\n",
        "        return config"
      ],
      "metadata": {
        "id": "E-JCM09hP78h"
      },
      "execution_count": 123,
      "outputs": []
    },
    {
      "cell_type": "code",
      "source": [
        "def create_random_pruning_model(input_shape=(28, 28)):\n",
        "    '''\n",
        "    Creates a model with a random pruning layer\n",
        "\n",
        "    Parameters:\n",
        "    - input_shape: The shape of the input\n",
        "\n",
        "    Returns:\n",
        "    - A model with a random pruning layer\n",
        "    '''\n",
        "    model = tf.keras.Sequential([\n",
        "        tf.keras.layers.InputLayer(input_shape=input_shape),\n",
        "        tf.keras.layers.Reshape(target_shape=(28, 28, 1)),\n",
        "        RandomPruningLayer(tf.keras.layers.Conv2D(12, (3, 3), activation='relu'), sparsity=0.5),\n",
        "        tf.keras.layers.MaxPooling2D(pool_size=(2, 2)),\n",
        "        tf.keras.layers.Flatten(),\n",
        "        tf.keras.layers.Dense(10)\n",
        "    ])\n",
        "    return model\n",
        "\n",
        "# Define and compile the model\n",
        "model_for_random_pruning = create_random_pruning_model()\n",
        "\n",
        "model_for_random_pruning.compile(optimizer='adam',\n",
        "                                 loss=tf.keras.losses.SparseCategoricalCrossentropy(from_logits=True),\n",
        "                                 metrics=['accuracy'])\n",
        "\n",
        "model_for_random_pruning.summary()\n",
        "\n",
        "# Train the model with random pruning\n",
        "model_for_random_pruning.fit(train_images, train_labels,\n",
        "                             batch_size=batch_size, epochs=4, validation_split=validation_split)\n"
      ],
      "metadata": {
        "colab": {
          "base_uri": "https://localhost:8080/",
          "height": 458
        },
        "id": "SthC_jpESf6_",
        "outputId": "781cd454-789c-4b75-bc85-3b310c1dde18"
      },
      "execution_count": 126,
      "outputs": [
        {
          "output_type": "display_data",
          "data": {
            "text/plain": [
              "\u001b[1mModel: \"sequential_28\"\u001b[0m\n"
            ],
            "text/html": [
              "<pre style=\"white-space:pre;overflow-x:auto;line-height:normal;font-family:Menlo,'DejaVu Sans Mono',consolas,'Courier New',monospace\"><span style=\"font-weight: bold\">Model: \"sequential_28\"</span>\n",
              "</pre>\n"
            ]
          },
          "metadata": {}
        },
        {
          "output_type": "display_data",
          "data": {
            "text/plain": [
              "┏━━━━━━━━━━━━━━━━━━━━━━━━━━━━━━━━━━━━━━┳━━━━━━━━━━━━━━━━━━━━━━━━━━━━━┳━━━━━━━━━━━━━━━━━┓\n",
              "┃\u001b[1m \u001b[0m\u001b[1mLayer (type)                        \u001b[0m\u001b[1m \u001b[0m┃\u001b[1m \u001b[0m\u001b[1mOutput Shape               \u001b[0m\u001b[1m \u001b[0m┃\u001b[1m \u001b[0m\u001b[1m        Param #\u001b[0m\u001b[1m \u001b[0m┃\n",
              "┡━━━━━━━━━━━━━━━━━━━━━━━━━━━━━━━━━━━━━━╇━━━━━━━━━━━━━━━━━━━━━━━━━━━━━╇━━━━━━━━━━━━━━━━━┩\n",
              "│ reshape_19 (\u001b[38;5;33mReshape\u001b[0m)                 │ (\u001b[38;5;45mNone\u001b[0m, \u001b[38;5;34m28\u001b[0m, \u001b[38;5;34m28\u001b[0m, \u001b[38;5;34m1\u001b[0m)           │               \u001b[38;5;34m0\u001b[0m │\n",
              "├──────────────────────────────────────┼─────────────────────────────┼─────────────────┤\n",
              "│ random_pruning_layer_1               │ (\u001b[38;5;45mNone\u001b[0m, \u001b[38;5;34m26\u001b[0m, \u001b[38;5;34m26\u001b[0m, \u001b[38;5;34m12\u001b[0m)          │             \u001b[38;5;34m120\u001b[0m │\n",
              "│ (\u001b[38;5;33mRandomPruningLayer\u001b[0m)                 │                             │                 │\n",
              "├──────────────────────────────────────┼─────────────────────────────┼─────────────────┤\n",
              "│ max_pooling2d_29 (\u001b[38;5;33mMaxPooling2D\u001b[0m)      │ (\u001b[38;5;45mNone\u001b[0m, \u001b[38;5;34m13\u001b[0m, \u001b[38;5;34m13\u001b[0m, \u001b[38;5;34m12\u001b[0m)          │               \u001b[38;5;34m0\u001b[0m │\n",
              "├──────────────────────────────────────┼─────────────────────────────┼─────────────────┤\n",
              "│ flatten_24 (\u001b[38;5;33mFlatten\u001b[0m)                 │ (\u001b[38;5;45mNone\u001b[0m, \u001b[38;5;34m2028\u001b[0m)                │               \u001b[38;5;34m0\u001b[0m │\n",
              "├──────────────────────────────────────┼─────────────────────────────┼─────────────────┤\n",
              "│ dense_37 (\u001b[38;5;33mDense\u001b[0m)                     │ (\u001b[38;5;45mNone\u001b[0m, \u001b[38;5;34m10\u001b[0m)                  │          \u001b[38;5;34m20,290\u001b[0m │\n",
              "└──────────────────────────────────────┴─────────────────────────────┴─────────────────┘\n"
            ],
            "text/html": [
              "<pre style=\"white-space:pre;overflow-x:auto;line-height:normal;font-family:Menlo,'DejaVu Sans Mono',consolas,'Courier New',monospace\">┏━━━━━━━━━━━━━━━━━━━━━━━━━━━━━━━━━━━━━━┳━━━━━━━━━━━━━━━━━━━━━━━━━━━━━┳━━━━━━━━━━━━━━━━━┓\n",
              "┃<span style=\"font-weight: bold\"> Layer (type)                         </span>┃<span style=\"font-weight: bold\"> Output Shape                </span>┃<span style=\"font-weight: bold\">         Param # </span>┃\n",
              "┡━━━━━━━━━━━━━━━━━━━━━━━━━━━━━━━━━━━━━━╇━━━━━━━━━━━━━━━━━━━━━━━━━━━━━╇━━━━━━━━━━━━━━━━━┩\n",
              "│ reshape_19 (<span style=\"color: #0087ff; text-decoration-color: #0087ff\">Reshape</span>)                 │ (<span style=\"color: #00d7ff; text-decoration-color: #00d7ff\">None</span>, <span style=\"color: #00af00; text-decoration-color: #00af00\">28</span>, <span style=\"color: #00af00; text-decoration-color: #00af00\">28</span>, <span style=\"color: #00af00; text-decoration-color: #00af00\">1</span>)           │               <span style=\"color: #00af00; text-decoration-color: #00af00\">0</span> │\n",
              "├──────────────────────────────────────┼─────────────────────────────┼─────────────────┤\n",
              "│ random_pruning_layer_1               │ (<span style=\"color: #00d7ff; text-decoration-color: #00d7ff\">None</span>, <span style=\"color: #00af00; text-decoration-color: #00af00\">26</span>, <span style=\"color: #00af00; text-decoration-color: #00af00\">26</span>, <span style=\"color: #00af00; text-decoration-color: #00af00\">12</span>)          │             <span style=\"color: #00af00; text-decoration-color: #00af00\">120</span> │\n",
              "│ (<span style=\"color: #0087ff; text-decoration-color: #0087ff\">RandomPruningLayer</span>)                 │                             │                 │\n",
              "├──────────────────────────────────────┼─────────────────────────────┼─────────────────┤\n",
              "│ max_pooling2d_29 (<span style=\"color: #0087ff; text-decoration-color: #0087ff\">MaxPooling2D</span>)      │ (<span style=\"color: #00d7ff; text-decoration-color: #00d7ff\">None</span>, <span style=\"color: #00af00; text-decoration-color: #00af00\">13</span>, <span style=\"color: #00af00; text-decoration-color: #00af00\">13</span>, <span style=\"color: #00af00; text-decoration-color: #00af00\">12</span>)          │               <span style=\"color: #00af00; text-decoration-color: #00af00\">0</span> │\n",
              "├──────────────────────────────────────┼─────────────────────────────┼─────────────────┤\n",
              "│ flatten_24 (<span style=\"color: #0087ff; text-decoration-color: #0087ff\">Flatten</span>)                 │ (<span style=\"color: #00d7ff; text-decoration-color: #00d7ff\">None</span>, <span style=\"color: #00af00; text-decoration-color: #00af00\">2028</span>)                │               <span style=\"color: #00af00; text-decoration-color: #00af00\">0</span> │\n",
              "├──────────────────────────────────────┼─────────────────────────────┼─────────────────┤\n",
              "│ dense_37 (<span style=\"color: #0087ff; text-decoration-color: #0087ff\">Dense</span>)                     │ (<span style=\"color: #00d7ff; text-decoration-color: #00d7ff\">None</span>, <span style=\"color: #00af00; text-decoration-color: #00af00\">10</span>)                  │          <span style=\"color: #00af00; text-decoration-color: #00af00\">20,290</span> │\n",
              "└──────────────────────────────────────┴─────────────────────────────┴─────────────────┘\n",
              "</pre>\n"
            ]
          },
          "metadata": {}
        },
        {
          "output_type": "display_data",
          "data": {
            "text/plain": [
              "\u001b[1m Total params: \u001b[0m\u001b[38;5;34m20,410\u001b[0m (79.73 KB)\n"
            ],
            "text/html": [
              "<pre style=\"white-space:pre;overflow-x:auto;line-height:normal;font-family:Menlo,'DejaVu Sans Mono',consolas,'Courier New',monospace\"><span style=\"font-weight: bold\"> Total params: </span><span style=\"color: #00af00; text-decoration-color: #00af00\">20,410</span> (79.73 KB)\n",
              "</pre>\n"
            ]
          },
          "metadata": {}
        },
        {
          "output_type": "display_data",
          "data": {
            "text/plain": [
              "\u001b[1m Trainable params: \u001b[0m\u001b[38;5;34m20,410\u001b[0m (79.73 KB)\n"
            ],
            "text/html": [
              "<pre style=\"white-space:pre;overflow-x:auto;line-height:normal;font-family:Menlo,'DejaVu Sans Mono',consolas,'Courier New',monospace\"><span style=\"font-weight: bold\"> Trainable params: </span><span style=\"color: #00af00; text-decoration-color: #00af00\">20,410</span> (79.73 KB)\n",
              "</pre>\n"
            ]
          },
          "metadata": {}
        },
        {
          "output_type": "display_data",
          "data": {
            "text/plain": [
              "\u001b[1m Non-trainable params: \u001b[0m\u001b[38;5;34m0\u001b[0m (0.00 B)\n"
            ],
            "text/html": [
              "<pre style=\"white-space:pre;overflow-x:auto;line-height:normal;font-family:Menlo,'DejaVu Sans Mono',consolas,'Courier New',monospace\"><span style=\"font-weight: bold\"> Non-trainable params: </span><span style=\"color: #00af00; text-decoration-color: #00af00\">0</span> (0.00 B)\n",
              "</pre>\n"
            ]
          },
          "metadata": {}
        },
        {
          "output_type": "stream",
          "name": "stdout",
          "text": [
            "Epoch 1/4\n",
            "\u001b[1m422/422\u001b[0m \u001b[32m━━━━━━━━━━━━━━━━━━━━\u001b[0m\u001b[37m\u001b[0m \u001b[1m18s\u001b[0m 36ms/step - accuracy: 0.3435 - loss: 2.2001 - val_accuracy: 0.6353 - val_loss: 1.6493\n",
            "Epoch 2/4\n",
            "\u001b[1m422/422\u001b[0m \u001b[32m━━━━━━━━━━━━━━━━━━━━\u001b[0m\u001b[37m\u001b[0m \u001b[1m20s\u001b[0m 35ms/step - accuracy: 0.6340 - loss: 1.8397 - val_accuracy: 0.6543 - val_loss: 1.3209\n",
            "Epoch 3/4\n",
            "\u001b[1m422/422\u001b[0m \u001b[32m━━━━━━━━━━━━━━━━━━━━\u001b[0m\u001b[37m\u001b[0m \u001b[1m15s\u001b[0m 36ms/step - accuracy: 0.6491 - loss: 1.6243 - val_accuracy: 0.6653 - val_loss: 1.1219\n",
            "Epoch 4/4\n",
            "\u001b[1m422/422\u001b[0m \u001b[32m━━━━━━━━━━━━━━━━━━━━\u001b[0m\u001b[37m\u001b[0m \u001b[1m15s\u001b[0m 35ms/step - accuracy: 0.6602 - loss: 1.4888 - val_accuracy: 0.6677 - val_loss: 1.0902\n"
          ]
        },
        {
          "output_type": "execute_result",
          "data": {
            "text/plain": [
              "<keras.src.callbacks.history.History at 0x7df08a326e30>"
            ]
          },
          "metadata": {},
          "execution_count": 126
        }
      ]
    },
    {
      "cell_type": "code",
      "source": [
        "# IMPORTANCE WEIGHT PRUNING\n",
        "class ImportanceWeightPruningLayer(tf.keras.layers.Layer):\n",
        "    '''\n",
        "    A class for a layer which prunes probabilistically\n",
        "    '''\n",
        "    def __init__(self, layer, sparsity, **kwargs):\n",
        "        '''\n",
        "        Constructor for the layer\n",
        "\n",
        "        Parameters:\n",
        "        - layer: The layer to be pruned\n",
        "        - sparsity: The sparsity of the layer\n",
        "        '''\n",
        "        super(ImportanceWeightPruningLayer, self).__init__(**kwargs)\n",
        "        self.layer = layer\n",
        "        self.sparsity = sparsity\n",
        "\n",
        "    def build(self, input_shape):\n",
        "        '''\n",
        "        Builds the layer\n",
        "\n",
        "        Parameters:\n",
        "        - input_shape: The shape of the input\n",
        "        '''\n",
        "        super(ImportanceWeightPruningLayer, self).build(input_shape)\n",
        "        self.layer.build(input_shape)\n",
        "\n",
        "    def call(self, inputs, training=None):\n",
        "        '''\n",
        "        Calls the layer\n",
        "\n",
        "        Parameters:\n",
        "        - inputs: The inputs to the layer\n",
        "        - training: Whether the layer is in training mode\n",
        "        '''\n",
        "        weights = self.layer.kernel\n",
        "        if training:\n",
        "            # Calculate importance (e.g., based on absolute value)\n",
        "            importance = tf.abs(weights)\n",
        "\n",
        "            # Normalize importance to [0, 1]\n",
        "            importance_normalized = importance / tf.reduce_max(importance)\n",
        "\n",
        "            # Invert importance to make less important weights more likely to be pruned\n",
        "            prune_prob = 1.0 - importance_normalized\n",
        "\n",
        "            # Scale prune probability by sparsity\n",
        "            prune_prob *= self.sparsity\n",
        "\n",
        "            # Generate a random mask based on the prune probability\n",
        "            random_values = tf.random.uniform(shape=weights.shape)\n",
        "            mask = tf.cast(random_values > prune_prob, weights.dtype)\n",
        "\n",
        "            # Apply the mask to prune weights\n",
        "            pruned_weights = weights * mask\n",
        "            self.layer.kernel.assign(pruned_weights)\n",
        "\n",
        "        return self.layer(inputs)\n",
        "\n",
        "    def get_config(self):\n",
        "        '''\n",
        "        Returns the config of the layer\n",
        "        '''\n",
        "        config = super(ImportanceWeightPruningLayer, self).get_config()\n",
        "        config.update({\n",
        "            'layer': self.layer,  # This might need custom serialization\n",
        "            'sparsity': self.sparsity,\n",
        "        })\n",
        "        return config"
      ],
      "metadata": {
        "id": "KMPzzwCWQlf3"
      },
      "execution_count": 120,
      "outputs": []
    },
    {
      "cell_type": "code",
      "source": [
        "def create_importance_weight_pruning_model(input_shape=(28, 28)):\n",
        "    '''\n",
        "    Creates a model with an importance-weighted pruning layer\n",
        "\n",
        "    Parameters:\n",
        "    - input_shape: The shape of the input\n",
        "\n",
        "    Returns:\n",
        "    - A model with an importance-weighted pruning layer\n",
        "    '''\n",
        "    model = tf.keras.Sequential([\n",
        "        tf.keras.layers.InputLayer(input_shape=input_shape),\n",
        "        tf.keras.layers.Reshape(target_shape=(28, 28, 1)),\n",
        "        ImportanceWeightPruningLayer(tf.keras.layers.Conv2D(12, (3, 3), activation='relu'), sparsity=0.5),\n",
        "        tf.keras.layers.MaxPooling2D(pool_size=(2, 2)),\n",
        "        tf.keras.layers.Flatten(),\n",
        "        tf.keras.layers.Dense(10)\n",
        "    ])\n",
        "    return model\n",
        "\n",
        "# Define and compile the model\n",
        "model_for_importance_weight_pruning = create_importance_weight_pruning_model()\n",
        "\n",
        "model_for_importance_weight_pruning.compile(optimizer='adam',\n",
        "                                            loss=tf.keras.losses.SparseCategoricalCrossentropy(from_logits=True),\n",
        "                                            metrics=['accuracy'])\n",
        "\n",
        "model_for_importance_weight_pruning.summary()\n",
        "\n",
        "# Train the model with importance-weighted pruning\n",
        "model_for_importance_weight_pruning.fit(train_images, train_labels,\n",
        "                                        batch_size=batch_size, epochs=4, validation_split=validation_split)\n"
      ],
      "metadata": {
        "colab": {
          "base_uri": "https://localhost:8080/",
          "height": 458
        },
        "id": "SNlI83LhSto3",
        "outputId": "92101df5-12b6-4548-f6d0-5227ce733e4b"
      },
      "execution_count": 127,
      "outputs": [
        {
          "output_type": "display_data",
          "data": {
            "text/plain": [
              "\u001b[1mModel: \"sequential_29\"\u001b[0m\n"
            ],
            "text/html": [
              "<pre style=\"white-space:pre;overflow-x:auto;line-height:normal;font-family:Menlo,'DejaVu Sans Mono',consolas,'Courier New',monospace\"><span style=\"font-weight: bold\">Model: \"sequential_29\"</span>\n",
              "</pre>\n"
            ]
          },
          "metadata": {}
        },
        {
          "output_type": "display_data",
          "data": {
            "text/plain": [
              "┏━━━━━━━━━━━━━━━━━━━━━━━━━━━━━━━━━━━━━━┳━━━━━━━━━━━━━━━━━━━━━━━━━━━━━┳━━━━━━━━━━━━━━━━━┓\n",
              "┃\u001b[1m \u001b[0m\u001b[1mLayer (type)                        \u001b[0m\u001b[1m \u001b[0m┃\u001b[1m \u001b[0m\u001b[1mOutput Shape               \u001b[0m\u001b[1m \u001b[0m┃\u001b[1m \u001b[0m\u001b[1m        Param #\u001b[0m\u001b[1m \u001b[0m┃\n",
              "┡━━━━━━━━━━━━━━━━━━━━━━━━━━━━━━━━━━━━━━╇━━━━━━━━━━━━━━━━━━━━━━━━━━━━━╇━━━━━━━━━━━━━━━━━┩\n",
              "│ reshape_20 (\u001b[38;5;33mReshape\u001b[0m)                 │ (\u001b[38;5;45mNone\u001b[0m, \u001b[38;5;34m28\u001b[0m, \u001b[38;5;34m28\u001b[0m, \u001b[38;5;34m1\u001b[0m)           │               \u001b[38;5;34m0\u001b[0m │\n",
              "├──────────────────────────────────────┼─────────────────────────────┼─────────────────┤\n",
              "│ importance_weight_pruning_layer      │ (\u001b[38;5;45mNone\u001b[0m, \u001b[38;5;34m26\u001b[0m, \u001b[38;5;34m26\u001b[0m, \u001b[38;5;34m12\u001b[0m)          │             \u001b[38;5;34m120\u001b[0m │\n",
              "│ (\u001b[38;5;33mImportanceWeightPruningLayer\u001b[0m)       │                             │                 │\n",
              "├──────────────────────────────────────┼─────────────────────────────┼─────────────────┤\n",
              "│ max_pooling2d_30 (\u001b[38;5;33mMaxPooling2D\u001b[0m)      │ (\u001b[38;5;45mNone\u001b[0m, \u001b[38;5;34m13\u001b[0m, \u001b[38;5;34m13\u001b[0m, \u001b[38;5;34m12\u001b[0m)          │               \u001b[38;5;34m0\u001b[0m │\n",
              "├──────────────────────────────────────┼─────────────────────────────┼─────────────────┤\n",
              "│ flatten_25 (\u001b[38;5;33mFlatten\u001b[0m)                 │ (\u001b[38;5;45mNone\u001b[0m, \u001b[38;5;34m2028\u001b[0m)                │               \u001b[38;5;34m0\u001b[0m │\n",
              "├──────────────────────────────────────┼─────────────────────────────┼─────────────────┤\n",
              "│ dense_38 (\u001b[38;5;33mDense\u001b[0m)                     │ (\u001b[38;5;45mNone\u001b[0m, \u001b[38;5;34m10\u001b[0m)                  │          \u001b[38;5;34m20,290\u001b[0m │\n",
              "└──────────────────────────────────────┴─────────────────────────────┴─────────────────┘\n"
            ],
            "text/html": [
              "<pre style=\"white-space:pre;overflow-x:auto;line-height:normal;font-family:Menlo,'DejaVu Sans Mono',consolas,'Courier New',monospace\">┏━━━━━━━━━━━━━━━━━━━━━━━━━━━━━━━━━━━━━━┳━━━━━━━━━━━━━━━━━━━━━━━━━━━━━┳━━━━━━━━━━━━━━━━━┓\n",
              "┃<span style=\"font-weight: bold\"> Layer (type)                         </span>┃<span style=\"font-weight: bold\"> Output Shape                </span>┃<span style=\"font-weight: bold\">         Param # </span>┃\n",
              "┡━━━━━━━━━━━━━━━━━━━━━━━━━━━━━━━━━━━━━━╇━━━━━━━━━━━━━━━━━━━━━━━━━━━━━╇━━━━━━━━━━━━━━━━━┩\n",
              "│ reshape_20 (<span style=\"color: #0087ff; text-decoration-color: #0087ff\">Reshape</span>)                 │ (<span style=\"color: #00d7ff; text-decoration-color: #00d7ff\">None</span>, <span style=\"color: #00af00; text-decoration-color: #00af00\">28</span>, <span style=\"color: #00af00; text-decoration-color: #00af00\">28</span>, <span style=\"color: #00af00; text-decoration-color: #00af00\">1</span>)           │               <span style=\"color: #00af00; text-decoration-color: #00af00\">0</span> │\n",
              "├──────────────────────────────────────┼─────────────────────────────┼─────────────────┤\n",
              "│ importance_weight_pruning_layer      │ (<span style=\"color: #00d7ff; text-decoration-color: #00d7ff\">None</span>, <span style=\"color: #00af00; text-decoration-color: #00af00\">26</span>, <span style=\"color: #00af00; text-decoration-color: #00af00\">26</span>, <span style=\"color: #00af00; text-decoration-color: #00af00\">12</span>)          │             <span style=\"color: #00af00; text-decoration-color: #00af00\">120</span> │\n",
              "│ (<span style=\"color: #0087ff; text-decoration-color: #0087ff\">ImportanceWeightPruningLayer</span>)       │                             │                 │\n",
              "├──────────────────────────────────────┼─────────────────────────────┼─────────────────┤\n",
              "│ max_pooling2d_30 (<span style=\"color: #0087ff; text-decoration-color: #0087ff\">MaxPooling2D</span>)      │ (<span style=\"color: #00d7ff; text-decoration-color: #00d7ff\">None</span>, <span style=\"color: #00af00; text-decoration-color: #00af00\">13</span>, <span style=\"color: #00af00; text-decoration-color: #00af00\">13</span>, <span style=\"color: #00af00; text-decoration-color: #00af00\">12</span>)          │               <span style=\"color: #00af00; text-decoration-color: #00af00\">0</span> │\n",
              "├──────────────────────────────────────┼─────────────────────────────┼─────────────────┤\n",
              "│ flatten_25 (<span style=\"color: #0087ff; text-decoration-color: #0087ff\">Flatten</span>)                 │ (<span style=\"color: #00d7ff; text-decoration-color: #00d7ff\">None</span>, <span style=\"color: #00af00; text-decoration-color: #00af00\">2028</span>)                │               <span style=\"color: #00af00; text-decoration-color: #00af00\">0</span> │\n",
              "├──────────────────────────────────────┼─────────────────────────────┼─────────────────┤\n",
              "│ dense_38 (<span style=\"color: #0087ff; text-decoration-color: #0087ff\">Dense</span>)                     │ (<span style=\"color: #00d7ff; text-decoration-color: #00d7ff\">None</span>, <span style=\"color: #00af00; text-decoration-color: #00af00\">10</span>)                  │          <span style=\"color: #00af00; text-decoration-color: #00af00\">20,290</span> │\n",
              "└──────────────────────────────────────┴─────────────────────────────┴─────────────────┘\n",
              "</pre>\n"
            ]
          },
          "metadata": {}
        },
        {
          "output_type": "display_data",
          "data": {
            "text/plain": [
              "\u001b[1m Total params: \u001b[0m\u001b[38;5;34m20,410\u001b[0m (79.73 KB)\n"
            ],
            "text/html": [
              "<pre style=\"white-space:pre;overflow-x:auto;line-height:normal;font-family:Menlo,'DejaVu Sans Mono',consolas,'Courier New',monospace\"><span style=\"font-weight: bold\"> Total params: </span><span style=\"color: #00af00; text-decoration-color: #00af00\">20,410</span> (79.73 KB)\n",
              "</pre>\n"
            ]
          },
          "metadata": {}
        },
        {
          "output_type": "display_data",
          "data": {
            "text/plain": [
              "\u001b[1m Trainable params: \u001b[0m\u001b[38;5;34m20,410\u001b[0m (79.73 KB)\n"
            ],
            "text/html": [
              "<pre style=\"white-space:pre;overflow-x:auto;line-height:normal;font-family:Menlo,'DejaVu Sans Mono',consolas,'Courier New',monospace\"><span style=\"font-weight: bold\"> Trainable params: </span><span style=\"color: #00af00; text-decoration-color: #00af00\">20,410</span> (79.73 KB)\n",
              "</pre>\n"
            ]
          },
          "metadata": {}
        },
        {
          "output_type": "display_data",
          "data": {
            "text/plain": [
              "\u001b[1m Non-trainable params: \u001b[0m\u001b[38;5;34m0\u001b[0m (0.00 B)\n"
            ],
            "text/html": [
              "<pre style=\"white-space:pre;overflow-x:auto;line-height:normal;font-family:Menlo,'DejaVu Sans Mono',consolas,'Courier New',monospace\"><span style=\"font-weight: bold\"> Non-trainable params: </span><span style=\"color: #00af00; text-decoration-color: #00af00\">0</span> (0.00 B)\n",
              "</pre>\n"
            ]
          },
          "metadata": {}
        },
        {
          "output_type": "stream",
          "name": "stdout",
          "text": [
            "Epoch 1/4\n",
            "\u001b[1m422/422\u001b[0m \u001b[32m━━━━━━━━━━━━━━━━━━━━\u001b[0m\u001b[37m\u001b[0m \u001b[1m17s\u001b[0m 37ms/step - accuracy: 0.5052 - loss: 1.6797 - val_accuracy: 0.7250 - val_loss: 0.7872\n",
            "Epoch 2/4\n",
            "\u001b[1m422/422\u001b[0m \u001b[32m━━━━━━━━━━━━━━━━━━━━\u001b[0m\u001b[37m\u001b[0m \u001b[1m15s\u001b[0m 36ms/step - accuracy: 0.7348 - loss: 0.7599 - val_accuracy: 0.7667 - val_loss: 0.6513\n",
            "Epoch 3/4\n",
            "\u001b[1m422/422\u001b[0m \u001b[32m━━━━━━━━━━━━━━━━━━━━\u001b[0m\u001b[37m\u001b[0m \u001b[1m15s\u001b[0m 36ms/step - accuracy: 0.7673 - loss: 0.6557 - val_accuracy: 0.7840 - val_loss: 0.5967\n",
            "Epoch 4/4\n",
            "\u001b[1m422/422\u001b[0m \u001b[32m━━━━━━━━━━━━━━━━━━━━\u001b[0m\u001b[37m\u001b[0m \u001b[1m20s\u001b[0m 35ms/step - accuracy: 0.7787 - loss: 0.6095 - val_accuracy: 0.7912 - val_loss: 0.5701\n"
          ]
        },
        {
          "output_type": "execute_result",
          "data": {
            "text/plain": [
              "<keras.src.callbacks.history.History at 0x7df08996d240>"
            ]
          },
          "metadata": {},
          "execution_count": 127
        }
      ]
    },
    {
      "cell_type": "code",
      "source": [
        "# FRACTIONAL THRESHOLD PRUNING\n",
        "class FractionalThresholdPruningLayer(tf.keras.layers.Layer):\n",
        "    '''\n",
        "    A class for a layer which prunes probabilistically\n",
        "    '''\n",
        "    def __init__(self, layer, sparsity, selectivity=0.55, prune=True, **kwargs):\n",
        "        '''\n",
        "        Constructor for the layer\n",
        "\n",
        "        Parameters:\n",
        "        - layer: The layer to be pruned\n",
        "        - sparsity: The sparsity of the layer\n",
        "        - selectivity: The selectivity of the layer\n",
        "        - prune: Whether to perform pruning\n",
        "        '''\n",
        "        super(FractionalThresholdPruningLayer, self).__init__(**kwargs)\n",
        "        self.layer = layer\n",
        "        self.sparsity = sparsity\n",
        "        self.selectivity = selectivity  # Portion of less important weights to consider for random pruning\n",
        "        self.prune = prune  # Flag to control whether pruning is performed\n",
        "\n",
        "    def build(self, input_shape):\n",
        "        '''\n",
        "        Builds the layer\n",
        "\n",
        "        Parameters:\n",
        "        - input_shape: The shape of the input\n",
        "        '''\n",
        "        super(FractionalThresholdPruningLayer, self).build(input_shape)\n",
        "        self.layer.build(input_shape)\n",
        "\n",
        "    def call(self, inputs, training=None):\n",
        "        '''\n",
        "        Calls the layer\n",
        "\n",
        "        Parameters:\n",
        "        - inputs: The inputs to the layer\n",
        "        - training: Whether the layer is in training mode\n",
        "        '''\n",
        "        weights = self.layer.kernel\n",
        "        if training and self.prune:\n",
        "            # Calculate importance (e.g., based on absolute value)\n",
        "            importance = tf.abs(weights)\n",
        "\n",
        "            # Determine the number of weights to consider as \"less important\"\n",
        "            flattened_weights = tf.reshape(importance, [-1])\n",
        "            num_weights = tf.size(flattened_weights)\n",
        "            k = tf.cast(self.selectivity * tf.cast(num_weights, tf.float32), tf.int32)\n",
        "\n",
        "            # Get the indices of the k smallest weights (less important weights)\n",
        "            sorted_indices = tf.argsort(flattened_weights)\n",
        "            less_important_indices = sorted_indices[:k]\n",
        "\n",
        "            # Randomly select a subset of the less important weights to prune\n",
        "            num_to_prune = tf.cast(self.sparsity * tf.cast(k, tf.float32), tf.int32)\n",
        "            pruned_indices = tf.random.shuffle(less_important_indices)[:num_to_prune]\n",
        "\n",
        "            # Create a mask that zeros out the selected subset of less important weights\n",
        "            mask_flat = tf.ones_like(flattened_weights)\n",
        "            mask_flat = tf.tensor_scatter_nd_update(mask_flat, tf.expand_dims(pruned_indices, 1), tf.zeros_like(pruned_indices, dtype=tf.float32))\n",
        "\n",
        "            # Reshape mask back to the original weight shape\n",
        "            mask = tf.reshape(mask_flat, weights.shape)\n",
        "\n",
        "            # Apply the mask to prune weights\n",
        "            pruned_weights = weights * mask\n",
        "\n",
        "            # Assign the pruned weights back to the layer\n",
        "            self.layer.kernel.assign(pruned_weights)\n",
        "\n",
        "        return self.layer(inputs)\n",
        "\n",
        "    def get_config(self):\n",
        "        '''\n",
        "        Returns the config of the layer\n",
        "        '''\n",
        "        config = super(FractionalThresholdPruningLayer, self).get_config()\n",
        "        config.update({\n",
        "            'layer': self.layer,\n",
        "            'sparsity': self.sparsity,\n",
        "            'selectivity': self.selectivity,\n",
        "            'prune': self.prune,\n",
        "        })\n",
        "        return config"
      ],
      "metadata": {
        "id": "5L2xCvdvRSc2"
      },
      "execution_count": 122,
      "outputs": []
    },
    {
      "cell_type": "code",
      "source": [
        "def create_fractional_threshold_pruning_model(input_shape=(28, 28)):\n",
        "    '''\n",
        "    Creates a model with a fractional threshold pruning layer\n",
        "\n",
        "    Parameters:\n",
        "    - input_shape: The shape of the input\n",
        "\n",
        "    Returns:\n",
        "    - A model with a fractional threshold pruning layer\n",
        "    '''\n",
        "    model = tf.keras.Sequential([\n",
        "        tf.keras.layers.InputLayer(input_shape=input_shape),\n",
        "        tf.keras.layers.Reshape(target_shape=(28, 28, 1)),\n",
        "        FractionalThresholdPruningLayer(tf.keras.layers.Conv2D(12, (3, 3), activation='relu'), sparsity=0.5, selectivity=0.55),\n",
        "        tf.keras.layers.MaxPooling2D(pool_size=(2, 2)),\n",
        "        tf.keras.layers.Flatten(),\n",
        "        tf.keras.layers.Dense(10)\n",
        "    ])\n",
        "    return model\n",
        "\n",
        "# Define and compile the model\n",
        "model_for_fractional_threshold_pruning = create_fractional_threshold_pruning_model()\n",
        "\n",
        "model_for_fractional_threshold_pruning.compile(optimizer='adam',\n",
        "                                               loss=tf.keras.losses.SparseCategoricalCrossentropy(from_logits=True),\n",
        "                                               metrics=['accuracy'])\n",
        "\n",
        "model_for_fractional_threshold_pruning.summary()\n",
        "\n",
        "# Train the model with fractional threshold pruning\n",
        "model_for_fractional_threshold_pruning.fit(train_images, train_labels,\n",
        "                                           batch_size=batch_size, epochs=4, validation_split=validation_split)\n"
      ],
      "metadata": {
        "colab": {
          "base_uri": "https://localhost:8080/",
          "height": 458
        },
        "id": "wVKSRv6sSxvL",
        "outputId": "454629dd-e0e5-41e1-da1e-5d4a10f61c4d"
      },
      "execution_count": 133,
      "outputs": [
        {
          "output_type": "display_data",
          "data": {
            "text/plain": [
              "\u001b[1mModel: \"sequential_32\"\u001b[0m\n"
            ],
            "text/html": [
              "<pre style=\"white-space:pre;overflow-x:auto;line-height:normal;font-family:Menlo,'DejaVu Sans Mono',consolas,'Courier New',monospace\"><span style=\"font-weight: bold\">Model: \"sequential_32\"</span>\n",
              "</pre>\n"
            ]
          },
          "metadata": {}
        },
        {
          "output_type": "display_data",
          "data": {
            "text/plain": [
              "┏━━━━━━━━━━━━━━━━━━━━━━━━━━━━━━━━━━━━━━┳━━━━━━━━━━━━━━━━━━━━━━━━━━━━━┳━━━━━━━━━━━━━━━━━┓\n",
              "┃\u001b[1m \u001b[0m\u001b[1mLayer (type)                        \u001b[0m\u001b[1m \u001b[0m┃\u001b[1m \u001b[0m\u001b[1mOutput Shape               \u001b[0m\u001b[1m \u001b[0m┃\u001b[1m \u001b[0m\u001b[1m        Param #\u001b[0m\u001b[1m \u001b[0m┃\n",
              "┡━━━━━━━━━━━━━━━━━━━━━━━━━━━━━━━━━━━━━━╇━━━━━━━━━━━━━━━━━━━━━━━━━━━━━╇━━━━━━━━━━━━━━━━━┩\n",
              "│ reshape_23 (\u001b[38;5;33mReshape\u001b[0m)                 │ (\u001b[38;5;45mNone\u001b[0m, \u001b[38;5;34m28\u001b[0m, \u001b[38;5;34m28\u001b[0m, \u001b[38;5;34m1\u001b[0m)           │               \u001b[38;5;34m0\u001b[0m │\n",
              "├──────────────────────────────────────┼─────────────────────────────┼─────────────────┤\n",
              "│ fractional_threshold_pruning_layer_2 │ (\u001b[38;5;45mNone\u001b[0m, \u001b[38;5;34m26\u001b[0m, \u001b[38;5;34m26\u001b[0m, \u001b[38;5;34m12\u001b[0m)          │             \u001b[38;5;34m120\u001b[0m │\n",
              "│ (\u001b[38;5;33mFractionalThresholdPruningLayer\u001b[0m)    │                             │                 │\n",
              "├──────────────────────────────────────┼─────────────────────────────┼─────────────────┤\n",
              "│ max_pooling2d_33 (\u001b[38;5;33mMaxPooling2D\u001b[0m)      │ (\u001b[38;5;45mNone\u001b[0m, \u001b[38;5;34m13\u001b[0m, \u001b[38;5;34m13\u001b[0m, \u001b[38;5;34m12\u001b[0m)          │               \u001b[38;5;34m0\u001b[0m │\n",
              "├──────────────────────────────────────┼─────────────────────────────┼─────────────────┤\n",
              "│ flatten_28 (\u001b[38;5;33mFlatten\u001b[0m)                 │ (\u001b[38;5;45mNone\u001b[0m, \u001b[38;5;34m2028\u001b[0m)                │               \u001b[38;5;34m0\u001b[0m │\n",
              "├──────────────────────────────────────┼─────────────────────────────┼─────────────────┤\n",
              "│ dense_41 (\u001b[38;5;33mDense\u001b[0m)                     │ (\u001b[38;5;45mNone\u001b[0m, \u001b[38;5;34m10\u001b[0m)                  │          \u001b[38;5;34m20,290\u001b[0m │\n",
              "└──────────────────────────────────────┴─────────────────────────────┴─────────────────┘\n"
            ],
            "text/html": [
              "<pre style=\"white-space:pre;overflow-x:auto;line-height:normal;font-family:Menlo,'DejaVu Sans Mono',consolas,'Courier New',monospace\">┏━━━━━━━━━━━━━━━━━━━━━━━━━━━━━━━━━━━━━━┳━━━━━━━━━━━━━━━━━━━━━━━━━━━━━┳━━━━━━━━━━━━━━━━━┓\n",
              "┃<span style=\"font-weight: bold\"> Layer (type)                         </span>┃<span style=\"font-weight: bold\"> Output Shape                </span>┃<span style=\"font-weight: bold\">         Param # </span>┃\n",
              "┡━━━━━━━━━━━━━━━━━━━━━━━━━━━━━━━━━━━━━━╇━━━━━━━━━━━━━━━━━━━━━━━━━━━━━╇━━━━━━━━━━━━━━━━━┩\n",
              "│ reshape_23 (<span style=\"color: #0087ff; text-decoration-color: #0087ff\">Reshape</span>)                 │ (<span style=\"color: #00d7ff; text-decoration-color: #00d7ff\">None</span>, <span style=\"color: #00af00; text-decoration-color: #00af00\">28</span>, <span style=\"color: #00af00; text-decoration-color: #00af00\">28</span>, <span style=\"color: #00af00; text-decoration-color: #00af00\">1</span>)           │               <span style=\"color: #00af00; text-decoration-color: #00af00\">0</span> │\n",
              "├──────────────────────────────────────┼─────────────────────────────┼─────────────────┤\n",
              "│ fractional_threshold_pruning_layer_2 │ (<span style=\"color: #00d7ff; text-decoration-color: #00d7ff\">None</span>, <span style=\"color: #00af00; text-decoration-color: #00af00\">26</span>, <span style=\"color: #00af00; text-decoration-color: #00af00\">26</span>, <span style=\"color: #00af00; text-decoration-color: #00af00\">12</span>)          │             <span style=\"color: #00af00; text-decoration-color: #00af00\">120</span> │\n",
              "│ (<span style=\"color: #0087ff; text-decoration-color: #0087ff\">FractionalThresholdPruningLayer</span>)    │                             │                 │\n",
              "├──────────────────────────────────────┼─────────────────────────────┼─────────────────┤\n",
              "│ max_pooling2d_33 (<span style=\"color: #0087ff; text-decoration-color: #0087ff\">MaxPooling2D</span>)      │ (<span style=\"color: #00d7ff; text-decoration-color: #00d7ff\">None</span>, <span style=\"color: #00af00; text-decoration-color: #00af00\">13</span>, <span style=\"color: #00af00; text-decoration-color: #00af00\">13</span>, <span style=\"color: #00af00; text-decoration-color: #00af00\">12</span>)          │               <span style=\"color: #00af00; text-decoration-color: #00af00\">0</span> │\n",
              "├──────────────────────────────────────┼─────────────────────────────┼─────────────────┤\n",
              "│ flatten_28 (<span style=\"color: #0087ff; text-decoration-color: #0087ff\">Flatten</span>)                 │ (<span style=\"color: #00d7ff; text-decoration-color: #00d7ff\">None</span>, <span style=\"color: #00af00; text-decoration-color: #00af00\">2028</span>)                │               <span style=\"color: #00af00; text-decoration-color: #00af00\">0</span> │\n",
              "├──────────────────────────────────────┼─────────────────────────────┼─────────────────┤\n",
              "│ dense_41 (<span style=\"color: #0087ff; text-decoration-color: #0087ff\">Dense</span>)                     │ (<span style=\"color: #00d7ff; text-decoration-color: #00d7ff\">None</span>, <span style=\"color: #00af00; text-decoration-color: #00af00\">10</span>)                  │          <span style=\"color: #00af00; text-decoration-color: #00af00\">20,290</span> │\n",
              "└──────────────────────────────────────┴─────────────────────────────┴─────────────────┘\n",
              "</pre>\n"
            ]
          },
          "metadata": {}
        },
        {
          "output_type": "display_data",
          "data": {
            "text/plain": [
              "\u001b[1m Total params: \u001b[0m\u001b[38;5;34m20,410\u001b[0m (79.73 KB)\n"
            ],
            "text/html": [
              "<pre style=\"white-space:pre;overflow-x:auto;line-height:normal;font-family:Menlo,'DejaVu Sans Mono',consolas,'Courier New',monospace\"><span style=\"font-weight: bold\"> Total params: </span><span style=\"color: #00af00; text-decoration-color: #00af00\">20,410</span> (79.73 KB)\n",
              "</pre>\n"
            ]
          },
          "metadata": {}
        },
        {
          "output_type": "display_data",
          "data": {
            "text/plain": [
              "\u001b[1m Trainable params: \u001b[0m\u001b[38;5;34m20,410\u001b[0m (79.73 KB)\n"
            ],
            "text/html": [
              "<pre style=\"white-space:pre;overflow-x:auto;line-height:normal;font-family:Menlo,'DejaVu Sans Mono',consolas,'Courier New',monospace\"><span style=\"font-weight: bold\"> Trainable params: </span><span style=\"color: #00af00; text-decoration-color: #00af00\">20,410</span> (79.73 KB)\n",
              "</pre>\n"
            ]
          },
          "metadata": {}
        },
        {
          "output_type": "display_data",
          "data": {
            "text/plain": [
              "\u001b[1m Non-trainable params: \u001b[0m\u001b[38;5;34m0\u001b[0m (0.00 B)\n"
            ],
            "text/html": [
              "<pre style=\"white-space:pre;overflow-x:auto;line-height:normal;font-family:Menlo,'DejaVu Sans Mono',consolas,'Courier New',monospace\"><span style=\"font-weight: bold\"> Non-trainable params: </span><span style=\"color: #00af00; text-decoration-color: #00af00\">0</span> (0.00 B)\n",
              "</pre>\n"
            ]
          },
          "metadata": {}
        },
        {
          "output_type": "stream",
          "name": "stdout",
          "text": [
            "Epoch 1/4\n",
            "\u001b[1m422/422\u001b[0m \u001b[32m━━━━━━━━━━━━━━━━━━━━\u001b[0m\u001b[37m\u001b[0m \u001b[1m17s\u001b[0m 37ms/step - accuracy: 0.6986 - loss: 1.0172 - val_accuracy: 0.8433 - val_loss: 0.4408\n",
            "Epoch 2/4\n",
            "\u001b[1m422/422\u001b[0m \u001b[32m━━━━━━━━━━━━━━━━━━━━\u001b[0m\u001b[37m\u001b[0m \u001b[1m21s\u001b[0m 37ms/step - accuracy: 0.8531 - loss: 0.4220 - val_accuracy: 0.8667 - val_loss: 0.3803\n",
            "Epoch 3/4\n",
            "\u001b[1m422/422\u001b[0m \u001b[32m━━━━━━━━━━━━━━━━━━━━\u001b[0m\u001b[37m\u001b[0m \u001b[1m20s\u001b[0m 36ms/step - accuracy: 0.8708 - loss: 0.3761 - val_accuracy: 0.8768 - val_loss: 0.3565\n",
            "Epoch 4/4\n",
            "\u001b[1m422/422\u001b[0m \u001b[32m━━━━━━━━━━━━━━━━━━━━\u001b[0m\u001b[37m\u001b[0m \u001b[1m21s\u001b[0m 37ms/step - accuracy: 0.8827 - loss: 0.3379 - val_accuracy: 0.8843 - val_loss: 0.3344\n"
          ]
        },
        {
          "output_type": "execute_result",
          "data": {
            "text/plain": [
              "<keras.src.callbacks.history.History at 0x7df089d368c0>"
            ]
          },
          "metadata": {},
          "execution_count": 133
        }
      ]
    },
    {
      "cell_type": "code",
      "source": [
        "# Evaluate and print results for the Deterministic Pruning model\n",
        "det_test_loss, det_test_accuracy = model_for_deterministic_pruning.evaluate(test_images, test_labels)\n",
        "print(f'Deterministic Pruning Model - Test Accuracy: {det_test_accuracy * 100:.4f}%')\n",
        "\n",
        "# Evaluate and print results for the No Pruning model\n",
        "no_pruning_test_loss, no_pruning_test_accuracy = model_for_no_pruning.evaluate(test_images, test_labels)\n",
        "print(f'No Pruning Model - Test Accuracy: {no_pruning_test_accuracy * 100:.4f}%')\n",
        "\n",
        "# Evaluate and print results for the Random Pruning model\n",
        "random_pruning_test_loss, random_pruning_test_accuracy = model_for_random_pruning.evaluate(test_images, test_labels)\n",
        "print(f'Random Pruning Model - Test Accuracy: {random_pruning_test_accuracy * 100:.4f}%')\n",
        "\n",
        "# Evaluate and print results for the Importance-Weighted Pruning model\n",
        "importance_weight_pruning_test_loss, importance_weight_pruning_test_accuracy = model_for_importance_weight_pruning.evaluate(test_images, test_labels)\n",
        "print(f'Importance-Weighted Pruning Model - Test Accuracy: {importance_weight_pruning_test_accuracy * 100:.4f}%')\n",
        "\n",
        "# Evaluate and print results for the Fractional Threshold Pruning model\n",
        "fractional_threshold_pruning_test_loss, fractional_threshold_pruning_test_accuracy = model_for_fractional_threshold_pruning.evaluate(test_images, test_labels)\n",
        "print(f'Fractional Threshold Pruning Model - Test Accuracy: {fractional_threshold_pruning_test_accuracy * 100:.4f}%')\n"
      ],
      "metadata": {
        "colab": {
          "base_uri": "https://localhost:8080/"
        },
        "id": "sppH-2igUiZQ",
        "outputId": "cad641d9-427c-4c51-d13e-13a53e3afed3"
      },
      "execution_count": 135,
      "outputs": [
        {
          "output_type": "stream",
          "name": "stdout",
          "text": [
            "\u001b[1m313/313\u001b[0m \u001b[32m━━━━━━━━━━━━━━━━━━━━\u001b[0m\u001b[37m\u001b[0m \u001b[1m2s\u001b[0m 5ms/step - accuracy: 0.8707 - loss: 0.3865\n",
            "Deterministic Pruning Model - Test Accuracy: 86.6300%\n",
            "\u001b[1m313/313\u001b[0m \u001b[32m━━━━━━━━━━━━━━━━━━━━\u001b[0m\u001b[37m\u001b[0m \u001b[1m1s\u001b[0m 5ms/step - accuracy: 0.8817 - loss: 0.3460\n",
            "No Pruning Model - Test Accuracy: 87.6800%\n",
            "\u001b[1m313/313\u001b[0m \u001b[32m━━━━━━━━━━━━━━━━━━━━\u001b[0m\u001b[37m\u001b[0m \u001b[1m1s\u001b[0m 4ms/step - accuracy: 0.6465 - loss: 1.1130\n",
            "Random Pruning Model - Test Accuracy: 64.5600%\n",
            "\u001b[1m313/313\u001b[0m \u001b[32m━━━━━━━━━━━━━━━━━━━━\u001b[0m\u001b[37m\u001b[0m \u001b[1m2s\u001b[0m 8ms/step - accuracy: 0.7865 - loss: 0.6065\n",
            "Importance-Weighted Pruning Model - Test Accuracy: 78.0600%\n",
            "\u001b[1m313/313\u001b[0m \u001b[32m━━━━━━━━━━━━━━━━━━━━\u001b[0m\u001b[37m\u001b[0m \u001b[1m3s\u001b[0m 8ms/step - accuracy: 0.8798 - loss: 0.3505\n",
            "Fractional Threshold Pruning Model - Test Accuracy: 87.4700%\n"
          ]
        }
      ]
    }
  ]
}